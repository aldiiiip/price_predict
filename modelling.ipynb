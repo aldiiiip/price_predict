{
 "cells": [
  {
   "cell_type": "code",
   "execution_count": 1,
   "metadata": {},
   "outputs": [],
   "source": [
    "import pandas as pd\n",
    "import re\n",
    "import numpy as np\n",
    "from sklearn.model_selection import train_test_split, cross_val_score, cross_val_predict, ShuffleSplit, GridSearchCV\n",
    "from sklearn.preprocessing import OneHotEncoder, StandardScaler\n",
    "from sklearn.ensemble import RandomForestRegressor, GradientBoostingRegressor\n",
    "from sklearn.compose import ColumnTransformer\n",
    "from sklearn.pipeline import Pipeline\n",
    "from sklearn.linear_model import LinearRegression, Ridge, Lasso\n",
    "from sklearn.metrics import mean_squared_error\n",
    "import matplotlib.pyplot as plt"
   ]
  },
  {
   "cell_type": "code",
   "execution_count": 2,
   "metadata": {},
   "outputs": [
    {
     "data": {
      "text/plain": [
       "(19991, 14)"
      ]
     },
     "execution_count": 2,
     "metadata": {},
     "output_type": "execute_result"
    }
   ],
   "source": [
    "df = pd.read_csv('mudah-apartment-kl-selangor.csv')\n",
    "df.shape"
   ]
  },
  {
   "cell_type": "code",
   "execution_count": 3,
   "metadata": {},
   "outputs": [
    {
     "data": {
      "text/plain": [
       "array(['Condominium', 'Apartment', 'Service Residence', 'Studio', 'Flat',\n",
       "       'Duplex', 'Others', 'Townhouse Condo',\n",
       "       'Condo / Services residence / Penthouse / Townhouse',\n",
       "       'Residential', 'Bungalow House', 'Houses', 'Soho'], dtype=object)"
      ]
     },
     "execution_count": 3,
     "metadata": {},
     "output_type": "execute_result"
    }
   ],
   "source": [
    "df.property_type.unique()"
   ]
  },
  {
   "cell_type": "code",
   "execution_count": 4,
   "metadata": {},
   "outputs": [],
   "source": [
    "df['parking'] = df['parking'].fillna(df['parking'].median())\n",
    "df = df.dropna(subset=['monthly_rent','rooms','bathroom','additional_facilities','furnished'])\n",
    "df = df.drop(columns=['prop_name','completion_year','additional_facilities','facilities','ads_id'])\n",
    "df['monthly_rent'] = df['monthly_rent'].apply(lambda x: int(re.sub(r'[^\\d]', '', x)))\n",
    "df['size'] = df['size'].apply(lambda x: int(re.sub(r'[^\\d]', '', x)))\n",
    "df = df.drop(df[df['rooms'] == 'More than 10'].index)\n",
    "df['rooms'] = df['rooms'].astype(float)\n",
    "df['location'] = df['location'].str.split(' - ').str[1]\n",
    "df.reset_index(drop=True, inplace=True)\n"
   ]
  },
  {
   "cell_type": "code",
   "execution_count": 5,
   "metadata": {},
   "outputs": [],
   "source": [
    "df['price_per_sqft'] = df['monthly_rent']/df['size']"
   ]
  },
  {
   "cell_type": "code",
   "execution_count": 6,
   "metadata": {},
   "outputs": [],
   "source": [
    "location_stats = df.groupby('location')['location'].agg('count').sort_values()\n",
    "location_less = location_stats[location_stats <= 37]\n",
    "df.location = df.location.apply(lambda x: 'Other' if x in location_less else x)\n",
    "# List of property types to replace with 'Other'\n",
    "replace_list = ['Flat', 'Studio', 'Others', 'Duplex', 'Townhouse Condo']\n",
    "\n",
    "# Replace specified values with 'Other'\n",
    "df['property_type'] = df['property_type'].replace(replace_list, 'Other')"
   ]
  },
  {
   "cell_type": "code",
   "execution_count": 7,
   "metadata": {},
   "outputs": [],
   "source": [
    "#standard deviation outlier\n",
    "def find_outliers(df,column):\n",
    "\n",
    "    Q1 = df[column].quantile(0.25)\n",
    "    Q3 = df[column].quantile(0.75)\n",
    "    \n",
    "    IQR = Q3 - Q1\n",
    "    print(IQR)\n",
    "    lower_bound = Q1 - 1.5 * IQR\n",
    "    upper_bound = Q3 + 1.5 * IQR\n",
    "\n",
    "    outliers = df[(df[column] > upper_bound) | (df[column] < lower_bound)]\n",
    "    df_cleaned = df.drop(outliers.index)\n",
    "    return df_cleaned"
   ]
  },
  {
   "cell_type": "code",
   "execution_count": 8,
   "metadata": {},
   "outputs": [
    {
     "name": "stdout",
     "output_type": "stream",
     "text": [
      "0.9339791274114955\n"
     ]
    }
   ],
   "source": [
    "df = find_outliers(df,'price_per_sqft')\n",
    "# df = find_outliers(df,'parking')\n",
    "df = df.drop(columns=['price_per_sqft'])\n",
    "df = df.drop(columns=['region'])"
   ]
  },
  {
   "cell_type": "code",
   "execution_count": 9,
   "metadata": {},
   "outputs": [],
   "source": [
    "# Define the preprocessing for numerical features\n",
    "numeric_features = ['rooms', 'parking', 'bathroom', 'size']\n",
    "numeric_transformer = Pipeline(steps=[\n",
    "    ('scaler', StandardScaler())])\n",
    "\n",
    "# Define the preprocessing for categorical features\n",
    "categorical_features = ['location','property_type', 'furnished']\n",
    "categorical_transformer = Pipeline(steps=[\n",
    "    ('onehot', OneHotEncoder(handle_unknown='error'))])\n",
    "\n",
    "# Combine the preprocessing steps\n",
    "preprocessor = ColumnTransformer(\n",
    "    transformers=[\n",
    "        ('num', numeric_transformer, numeric_features),\n",
    "        ('cat', categorical_transformer, categorical_features)])\n"
   ]
  },
  {
   "cell_type": "code",
   "execution_count": 10,
   "metadata": {},
   "outputs": [
    {
     "name": "stdout",
     "output_type": "stream",
     "text": [
      "Mean Squared Error: 174245.9268509761\n"
     ]
    }
   ],
   "source": [
    "# Define the model\n",
    "model = RandomForestRegressor(random_state=10)\n",
    "\n",
    "# Create the pipeline\n",
    "pipeline = Pipeline(steps=[('preprocessor', preprocessor),\n",
    "                           ('model', model)])\n",
    "\n",
    "# Split the data into training and testing sets\n",
    "X = df.drop(columns=['monthly_rent'])\n",
    "y = df['monthly_rent']\n",
    "X_train, X_test, y_train, y_test = train_test_split(X, y, test_size=0.25, random_state=10)\n",
    "\n",
    "# Train the model\n",
    "pipeline.fit(X_train, y_train)\n",
    "\n",
    "# Predict on the test set\n",
    "y_pred = pipeline.predict(X_test)\n",
    "\n",
    "# Evaluate the model\n",
    "mse = mean_squared_error(y_test, y_pred)\n",
    "print(f'Mean Squared Error: {mse}')"
   ]
  },
  {
   "cell_type": "code",
   "execution_count": 250,
   "metadata": {},
   "outputs": [],
   "source": [
    "import pickle\n",
    "with open('price_model.pickle','wb') as f:\n",
    "    pickle.dump(pipeline, f)"
   ]
  },
  {
   "cell_type": "code",
   "execution_count": 30,
   "metadata": {},
   "outputs": [],
   "source": [
    "import pickle\n",
    "# Load the pipeline from the file\n",
    "with open('price_model.pickle', 'rb') as file:\n",
    "    loaded_pipeline = pickle.load(file)"
   ]
  },
  {
   "cell_type": "code",
   "execution_count": 24,
   "metadata": {},
   "outputs": [],
   "source": [
    "import json\n",
    "# Get the uniques\n",
    "location_names_list = sorted(df['location'].unique().tolist())\n",
    "furnished_list = sorted(df['furnished'].unique().tolist())\n",
    "property_type_list = sorted(df['property_type'].unique().tolist())\n",
    "\n",
    "# Combine\n",
    "data = {\n",
    "    'locations': location_names_list,\n",
    "    'furnished': furnished_list,\n",
    "    'property_types': property_type_list\n",
    "}\n",
    "\n",
    "# Save the dictionary to a JSON file\n",
    "with open('value_names.json', 'w') as file:\n",
    "    json.dump(data, file, indent=4)"
   ]
  },
  {
   "cell_type": "code",
   "execution_count": 31,
   "metadata": {},
   "outputs": [],
   "source": [
    "# Function to predict rent price\n",
    "def predict_rent_price(model_pipeline, location, property_type, rooms, parking, bathroom, size, furnished):\n",
    "    data = {\n",
    "        'location': location,\n",
    "        'property_type': property_type,\n",
    "        'rooms': rooms,\n",
    "        'parking': parking,\n",
    "        'bathroom': bathroom,\n",
    "        'size': size,\n",
    "        'furnished': furnished\n",
    "    }\n",
    "\n",
    "    input_df = pd.DataFrame([data])\n",
    "    print(input_df)\n",
    "    prediction = model_pipeline.predict(input_df)[0]\n",
    "    return prediction"
   ]
  },
  {
   "cell_type": "code",
   "execution_count": 69,
   "metadata": {},
   "outputs": [
    {
     "name": "stdout",
     "output_type": "stream",
     "text": [
      "    location property_type  rooms  parking  bathroom  size  \\\n",
      "0  Cyberjaya   Condominium      2        0         1   500   \n",
      "\n",
      "             furnished  \n",
      "0  Partially Furnished  \n"
     ]
    },
    {
     "data": {
      "text/plain": [
       "np.float64(1107.4572562160063)"
      ]
     },
     "execution_count": 69,
     "metadata": {},
     "output_type": "execute_result"
    }
   ],
   "source": [
    "predict_rent_price(loaded_pipeline, \"Cyberjaya\", \"Condominium\", 2,0,1,500,'Partially Furnished')"
   ]
  },
  {
   "cell_type": "code",
   "execution_count": 13,
   "metadata": {},
   "outputs": [],
   "source": [
    "# Load the locations from the JSON file\n",
    "with open('value_names.json', 'r') as file:\n",
    "    locations = json.load(file)\n"
   ]
  },
  {
   "cell_type": "code",
   "execution_count": 21,
   "metadata": {},
   "outputs": [
    {
     "data": {
      "text/plain": [
       "{'locations': ['Taman Desa',\n",
       "  'Cheras',\n",
       "  'Sentul',\n",
       "  'Mont Kiara',\n",
       "  'Setapak',\n",
       "  'Ampang',\n",
       "  'Segambut',\n",
       "  'Other',\n",
       "  'Bukit Jalil',\n",
       "  'Kepong',\n",
       "  'KL City',\n",
       "  'Wangsa Maju',\n",
       "  'Solaris Dutamas',\n",
       "  'Jalan Kuching',\n",
       "  'Desa Pandan',\n",
       "  'Old Klang Road',\n",
       "  'Jalan Ipoh',\n",
       "  'KLCC',\n",
       "  'Gombak',\n",
       "  'Pantai',\n",
       "  'Sungai Besi',\n",
       "  'Sri Petaling',\n",
       "  'Bangsar South',\n",
       "  'Bukit Bintang',\n",
       "  'Kuchai Lama',\n",
       "  'Titiwangsa',\n",
       "  'Keramat',\n",
       "  'OUG',\n",
       "  'Pandan Perdana',\n",
       "  'Sri Hartamas',\n",
       "  'Desa Petaling',\n",
       "  'Puchong',\n",
       "  'Taman Melawati',\n",
       "  'Ampang Hilir',\n",
       "  'Sri Damansara',\n",
       "  'Cyberjaya',\n",
       "  'Shah Alam',\n",
       "  'Petaling Jaya',\n",
       "  'Klang',\n",
       "  'Bandar Sunway',\n",
       "  'Seri Kembangan',\n",
       "  'Kajang',\n",
       "  'Kota Damansara',\n",
       "  'Batu Caves',\n",
       "  'Semenyih',\n",
       "  'Damansara Damai',\n",
       "  'Bandar Mahkota Cheras',\n",
       "  'Sepang',\n",
       "  'Selayang',\n",
       "  'Sungai Buloh',\n",
       "  'Bangi',\n",
       "  'Setia Alam',\n",
       "  'Dengkil',\n",
       "  'Subang Jaya',\n",
       "  'Ara Damansara',\n",
       "  'I-City',\n",
       "  'Rawang',\n",
       "  'Damansara Perdana',\n",
       "  'Puncak Alam',\n",
       "  '360',\n",
       "  'Balakong'],\n",
       " 'furnished': ['Fully Furnished', 'Partially Furnished', 'Not Furnished'],\n",
       " 'property_types': ['Condominium', 'Apartment', 'Service Residence', 'Other']}"
      ]
     },
     "execution_count": 21,
     "metadata": {},
     "output_type": "execute_result"
    }
   ],
   "source": [
    "locations"
   ]
  }
 ],
 "metadata": {
  "kernelspec": {
   "display_name": ".venv",
   "language": "python",
   "name": "python3"
  },
  "language_info": {
   "codemirror_mode": {
    "name": "ipython",
    "version": 3
   },
   "file_extension": ".py",
   "mimetype": "text/x-python",
   "name": "python",
   "nbconvert_exporter": "python",
   "pygments_lexer": "ipython3",
   "version": "3.10.11"
  }
 },
 "nbformat": 4,
 "nbformat_minor": 2
}
